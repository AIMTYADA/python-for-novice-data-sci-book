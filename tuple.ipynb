{
 "cells": [
  {
   "cell_type": "markdown",
   "id": "08ca38d2-8421-4202-912c-d1f710fad9cd",
   "metadata": {},
   "source": [
    "# Python Tuple"
   ]
  },
  {
   "cell_type": "markdown",
   "id": "70977449-9726-4110-8422-0b0696541345",
   "metadata": {},
   "source": [
    "A tuple is a collection data type. It like a list but is immutable. A tuple is a list of values inside parentheses separated by commas."
   ]
  },
  {
   "cell_type": "code",
   "execution_count": 1,
   "id": "375061d4-80b0-4c24-b37c-c752387dc133",
   "metadata": {},
   "outputs": [
    {
     "data": {
      "text/plain": [
       "(1, 2, 3, 4)"
      ]
     },
     "execution_count": 1,
     "metadata": {},
     "output_type": "execute_result"
    }
   ],
   "source": [
    "(1,2,3,4)  # a tuple of four values"
   ]
  },
  {
   "cell_type": "markdown",
   "id": "4079d642-6aa6-4406-ac04-7f51fb5696be",
   "metadata": {},
   "source": [
    "A tuple can be created from a list using a **tuple** constructor or literally as seen above."
   ]
  },
  {
   "cell_type": "code",
   "execution_count": null,
   "id": "7ddcae30-9a65-46c4-a9ce-9fdd77f22201",
   "metadata": {},
   "outputs": [
    {
     "data": {
      "text/plain": [
       "(1, 2, 3, 4)"
      ]
     },
     "execution_count": 4,
     "metadata": {},
     "output_type": "execute_result"
    }
   ],
   "source": [
    "tuple([1,2,3,4])"
   ]
  },
  {
   "cell_type": "markdown",
   "id": "8c60eea8-0190-4927-9e58-33b332ea3f8d",
   "metadata": {},
   "source": [
    "In fact, you don't even need to use parentheses to create a tuple. You only need values separated by commas."
   ]
  },
  {
   "cell_type": "code",
   "execution_count": 12,
   "id": "1e1f3450-ca41-41e4-9aeb-b3eb345e2e94",
   "metadata": {},
   "outputs": [
    {
     "name": "stdout",
     "output_type": "stream",
     "text": [
      "(1, 2, 3, 4)\n"
     ]
    }
   ],
   "source": [
    "atuple = 1,2,3,4\n",
    "\n",
    "print(atuple)"
   ]
  },
  {
   "cell_type": "markdown",
   "id": "431e3709-4c00-47be-b735-79371dfceed7",
   "metadata": {},
   "source": [
    "To create a tuple with a single value literally, you still need a comma."
   ]
  },
  {
   "cell_type": "code",
   "execution_count": 14,
   "id": "9827c9db-c059-497d-85f6-e60e1d2f24c4",
   "metadata": {},
   "outputs": [
    {
     "name": "stdout",
     "output_type": "stream",
     "text": [
      "(1,)\n"
     ]
    }
   ],
   "source": [
    "atuple = 1,\n",
    "\n",
    "print(atuple)"
   ]
  },
  {
   "cell_type": "markdown",
   "id": "c65c285c-1a2b-493e-b208-cf9721f9eb4b",
   "metadata": {},
   "source": [
    "A tuple is used a lot in Python without you knowing it. Many functions in Python such as dictionary's items method returns a tuple of key and value."
   ]
  },
  {
   "cell_type": "markdown",
   "id": "3a1e46a5-edae-4713-b357-4b22bedbe375",
   "metadata": {},
   "source": [
    "## Accessing values"
   ]
  },
  {
   "cell_type": "markdown",
   "id": "478948c2-2b31-4165-9395-d287ae5e514a",
   "metadata": {},
   "source": [
    "An index can be used to access a value from a tuple."
   ]
  },
  {
   "cell_type": "code",
   "execution_count": 5,
   "id": "7ca45170-9f98-4c45-9552-5f10726f6b07",
   "metadata": {},
   "outputs": [
    {
     "name": "stdout",
     "output_type": "stream",
     "text": [
      "(2, 3)\n"
     ]
    }
   ],
   "source": [
    "atuple = (1,2,3,4)\n",
    "\n",
    "print(atuple[1:3])"
   ]
  },
  {
   "cell_type": "markdown",
   "id": "d2d824d9-c899-4c35-9f71-54227d4b7a35",
   "metadata": {},
   "source": [
    "However, you cannot modify the value because a tuple is immutable (cannot be mutated or changed)."
   ]
  },
  {
   "cell_type": "code",
   "execution_count": 6,
   "id": "f414a125-105a-42bb-9df1-041dd762d1cb",
   "metadata": {},
   "outputs": [
    {
     "ename": "TypeError",
     "evalue": "'tuple' object does not support item assignment",
     "output_type": "error",
     "traceback": [
      "\u001b[0;31m---------------------------------------------------------------------------\u001b[0m",
      "\u001b[0;31mTypeError\u001b[0m                                 Traceback (most recent call last)",
      "Input \u001b[0;32mIn [6]\u001b[0m, in \u001b[0;36m<cell line: 3>\u001b[0;34m()\u001b[0m\n\u001b[1;32m      1\u001b[0m atuple \u001b[38;5;241m=\u001b[39m (\u001b[38;5;241m1\u001b[39m,\u001b[38;5;241m2\u001b[39m,\u001b[38;5;241m3\u001b[39m,\u001b[38;5;241m4\u001b[39m)\n\u001b[0;32m----> 3\u001b[0m atuple[\u001b[38;5;241m2\u001b[39m] \u001b[38;5;241m=\u001b[39m \u001b[38;5;241m20\u001b[39m\n",
      "\u001b[0;31mTypeError\u001b[0m: 'tuple' object does not support item assignment"
     ]
    }
   ],
   "source": [
    "atuple = (1,2,3,4)\n",
    "\n",
    "atuple[2] = 20"
   ]
  },
  {
   "cell_type": "markdown",
   "id": "5b0fe6d1-af44-4239-a534-b92f54a50a61",
   "metadata": {},
   "source": [
    "Because it is immutable, a method such as insert, pop is not available. Only an index method and count are available."
   ]
  },
  {
   "cell_type": "code",
   "execution_count": 8,
   "id": "4be21fa2-db64-4cee-bd6b-32ded30b9a58",
   "metadata": {},
   "outputs": [
    {
     "name": "stdout",
     "output_type": "stream",
     "text": [
      "2\n",
      "1\n"
     ]
    }
   ],
   "source": [
    "atuple = (1,2,3,4)\n",
    "\n",
    "print(atuple.index(3))\n",
    "\n",
    "print(atuple.count(2))"
   ]
  },
  {
   "cell_type": "markdown",
   "id": "43d92170-36a5-48c2-8021-3317dc68376d",
   "metadata": {},
   "source": [
    "## Values unpacking"
   ]
  },
  {
   "cell_type": "markdown",
   "id": "bfb0f5cc-ba6e-4c07-b813-61c7f3e35d7a",
   "metadata": {},
   "source": [
    "You can assign values in a tuple to a separate variable using unpacking mechanism."
   ]
  },
  {
   "cell_type": "code",
   "execution_count": 15,
   "id": "6013c6d1-8c50-431b-898e-f06b70d5f8ce",
   "metadata": {},
   "outputs": [
    {
     "name": "stdout",
     "output_type": "stream",
     "text": [
      "1\n",
      "2\n",
      "3\n"
     ]
    }
   ],
   "source": [
    "a,b,c = 1,2,3\n",
    "\n",
    "print(a)\n",
    "print(b)\n",
    "print(c)"
   ]
  },
  {
   "cell_type": "markdown",
   "id": "7e7790af-6f5b-4001-9bd8-9042037c73ca",
   "metadata": {},
   "source": [
    "You can use this mechanism to swap two values easily."
   ]
  },
  {
   "cell_type": "code",
   "execution_count": 16,
   "id": "90c4266e-9b00-4dd3-b0db-e1cda69c9e42",
   "metadata": {},
   "outputs": [
    {
     "name": "stdout",
     "output_type": "stream",
     "text": [
      "20 10\n"
     ]
    }
   ],
   "source": [
    "x, y = 10, 20\n",
    "\n",
    "y, x = x, y\n",
    "\n",
    "print(x, y)"
   ]
  },
  {
   "cell_type": "markdown",
   "id": "0a600216-4074-4d45-9218-bd528788ad97",
   "metadata": {},
   "source": [
    "## Mutable vs Immutable data types: What's the big deal?"
   ]
  },
  {
   "cell_type": "markdown",
   "id": "42ad5731-5811-4bea-88f5-e3dcd7014384",
   "metadata": {},
   "source": [
    "Values in the mutable data types can change and the change will affect all variables that point to it."
   ]
  },
  {
   "cell_type": "code",
   "execution_count": 10,
   "id": "ff0c50f4-69f7-4339-b5ed-01a00cc3a135",
   "metadata": {},
   "outputs": [
    {
     "name": "stdout",
     "output_type": "stream",
     "text": [
      "[1, 2, 20, 4]\n",
      "[1, 2, 20, 4]\n",
      "(1, 2, 3, 4)\n",
      "(1, 2, 3, 4)\n"
     ]
    }
   ],
   "source": [
    "atuple = (1,2,3,4)\n",
    "alist = [1,2,3,4]\n",
    "\n",
    "btuple = atuple\n",
    "blist = alist\n",
    "\n",
    "alist[2] = 20\n",
    "print(alist)\n",
    "print(blist)\n",
    "\n",
    "print(atuple)\n",
    "print(btuple)"
   ]
  },
  {
   "cell_type": "code",
   "execution_count": 9,
   "id": "5e9cec65-f158-4e43-b567-b6919a6a9f7b",
   "metadata": {},
   "outputs": [
    {
     "data": {
      "text/html": [
       "<iframe width=\"800\" height=\"500\" frameborder=\"0\" src=\"https://pythontutor.com/iframe-embed.html#code=atuple%20%3D%20%281,2,3,4%29%0Aalist%20%3D%20%5B1,2,3,4%5D%0A%0Abtuple%20%3D%20atuple%0Ablist%20%3D%20alist%0A%0Aalist%5B2%5D%20%3D%2020%0A&codeDivHeight=400&codeDivWidth=350&cumulative=false&curInstr=5&heapPrimitives=nevernest&origin=opt-frontend.js&py=3&rawInputLstJSON=%5B%5D&textReferences=false\"> </iframe>\n"
      ],
      "text/plain": [
       "<IPython.core.display.HTML object>"
      ]
     },
     "metadata": {},
     "output_type": "display_data"
    }
   ],
   "source": [
    "%%html\n",
    "<iframe width=\"800\" height=\"500\" frameborder=\"0\" src=\"https://pythontutor.com/iframe-embed.html#code=atuple%20%3D%20%281,2,3,4%29%0Aalist%20%3D%20%5B1,2,3,4%5D%0A%0Abtuple%20%3D%20atuple%0Ablist%20%3D%20alist%0A%0Aalist%5B2%5D%20%3D%2020%0A&codeDivHeight=400&codeDivWidth=350&cumulative=false&curInstr=5&heapPrimitives=nevernest&origin=opt-frontend.js&py=3&rawInputLstJSON=%5B%5D&textReferences=false\"> </iframe>"
   ]
  },
  {
   "cell_type": "markdown",
   "id": "4d531486-40db-4e0f-b9e4-73526c6b5d51",
   "metadata": {},
   "source": [
    "Therefore, it is not safe to use mutable data types when you want to ensure that the data will never change."
   ]
  },
  {
   "cell_type": "markdown",
   "id": "4c458286-49ab-4f11-9d6e-0dde9f79ed4d",
   "metadata": {},
   "source": [
    "The immutable data can also be hashed (more on this later). And the hashed value can be used as a key in a dictionary. Some data type such as a Python **set** can only stores immutable values."
   ]
  },
  {
   "cell_type": "code",
   "execution_count": null,
   "id": "3087bc2b-9e9a-4bf0-90b3-45b207a8c262",
   "metadata": {},
   "outputs": [],
   "source": []
  }
 ],
 "metadata": {
  "kernelspec": {
   "display_name": "Python 3 (ipykernel)",
   "language": "python",
   "name": "python3"
  },
  "language_info": {
   "codemirror_mode": {
    "name": "ipython",
    "version": 3
   },
   "file_extension": ".py",
   "mimetype": "text/x-python",
   "name": "python",
   "nbconvert_exporter": "python",
   "pygments_lexer": "ipython3",
   "version": "3.9.7"
  }
 },
 "nbformat": 4,
 "nbformat_minor": 5
}
