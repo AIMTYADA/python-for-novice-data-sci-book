{
 "cells": [
  {
   "cell_type": "markdown",
   "id": "6f03b2df-1516-4e52-92af-f415e1460406",
   "metadata": {},
   "source": [
    "# Python supports many types of data"
   ]
  },
  {
   "cell_type": "markdown",
   "id": "fe8b0991-1012-4696-9cec-3dfde091eef9",
   "metadata": {},
   "source": [
    "Some data types are **mutable**, which means their values can be changed. On the other hand, the values of  **immutable** data types cannot be chagned."
   ]
  },
  {
   "cell_type": "markdown",
   "id": "56ae728d-a674-489b-8a63-ecef2d07082d",
   "metadata": {},
   "source": [
    "|Name|Data type|Mutable|Example|\n",
    "|-----|------|------|------|\n",
    "|Boolean|bool|no|True, False|\n",
    "|Integer|int|no|25, 3400, 25_000|\n",
    "|Floating point|float|no|3.14, 2.7e5|\n",
    "|Complex|complex|no|3j, 5+9j|\n",
    "|Text string|str|no|'alert', \"attack\", '''a verse attack'''|\n",
    "|List|list|yes|['Wind', 'Ball', 'Beer']|\n",
    "|Tuple|tuple|no|(3,4,5)|\n",
    "|Bytes|bytes|no|b'ab\\xff'|\n",
    "|ByteArray|bytearray|yes|bytearray(...)|\n",
    "|Set|set|yes|{3,5,7}|\n",
    "|Frozen set|frozenset|no|frozenset(['Elza', 'Otto'])|\n",
    "|Dictionary|dict|yes|{'a': 34, 'b': 56}|"
   ]
  },
  {
   "cell_type": "markdown",
   "id": "2beb3a3a-62b1-4694-95ff-576ef23af20b",
   "metadata": {},
   "source": [
    "To learn about a type of the data, try this."
   ]
  },
  {
   "cell_type": "code",
   "execution_count": 3,
   "id": "0e98ad28-599d-48ec-8ece-3b4ce323f562",
   "metadata": {},
   "outputs": [
    {
     "data": {
      "text/plain": [
       "float"
      ]
     },
     "execution_count": 3,
     "metadata": {},
     "output_type": "execute_result"
    }
   ],
   "source": [
    "type(7.8)"
   ]
  },
  {
   "cell_type": "code",
   "execution_count": 4,
   "id": "b52872ac-206a-4b38-8f12-02f084e7951d",
   "metadata": {},
   "outputs": [
    {
     "data": {
      "text/plain": [
       "complex"
      ]
     },
     "execution_count": 4,
     "metadata": {},
     "output_type": "execute_result"
    }
   ],
   "source": [
    "type(5 + 9j)"
   ]
  },
  {
   "cell_type": "code",
   "execution_count": 5,
   "id": "cd03165b-3872-42af-8969-09060d59d2d5",
   "metadata": {},
   "outputs": [
    {
     "data": {
      "text/plain": [
       "list"
      ]
     },
     "execution_count": 5,
     "metadata": {},
     "output_type": "execute_result"
    }
   ],
   "source": [
    "type([3,4,5,6])"
   ]
  },
  {
   "cell_type": "code",
   "execution_count": 6,
   "id": "557966a3-24cb-41c7-aa2c-5d53dae401fb",
   "metadata": {},
   "outputs": [
    {
     "data": {
      "text/plain": [
       "True"
      ]
     },
     "execution_count": 6,
     "metadata": {},
     "output_type": "execute_result"
    }
   ],
   "source": [
    "isinstance(4.59, float)  # check if the value is of type float."
   ]
  },
  {
   "cell_type": "markdown",
   "id": "126ec9db-53b4-44f9-be93-b1a49a37c792",
   "metadata": {},
   "source": [
    "### Variables"
   ]
  },
  {
   "cell_type": "markdown",
   "id": "5824d304-6003-4a49-97f7-19371e659282",
   "metadata": {},
   "source": [
    "The name of a variable can only contains:\n",
    "\n",
    "* Lowercase letters (a through z)\n",
    "* Uppercase letters (A through Z)\n",
    "* Digits (0 through 9)\n",
    "* Underscore ('_')\n",
    "\n",
    "They are case sensitive. thing, Thing and THING are not the same.\n",
    "\n",
    "They must begins with characters or an underscore, not digits.\n",
    "\n",
    "Names that begin with underscores are treated specially.\n",
    "\n",
    "They cannot be one of the Python's reserved words."
   ]
  },
  {
   "cell_type": "markdown",
   "id": "7cc95a95-5af7-4126-980a-02521375847f",
   "metadata": {},
   "source": [
    "### Reserved words"
   ]
  },
  {
   "cell_type": "code",
   "execution_count": 1,
   "id": "8b1cc0c2-37bc-4d39-8532-ab48e1ad77fb",
   "metadata": {},
   "outputs": [
    {
     "name": "stdout",
     "output_type": "stream",
     "text": [
      "\n",
      "Here is a list of the Python keywords.  Enter any keyword to get more help.\n",
      "\n",
      "False               break               for                 not\n",
      "None                class               from                or\n",
      "True                continue            global              pass\n",
      "__peg_parser__      def                 if                  raise\n",
      "and                 del                 import              return\n",
      "as                  elif                in                  try\n",
      "assert              else                is                  while\n",
      "async               except              lambda              with\n",
      "await               finally             nonlocal            yield\n",
      "\n"
     ]
    }
   ],
   "source": [
    "help(\"keywords\")"
   ]
  },
  {
   "cell_type": "markdown",
   "id": "1bfb888d-35fb-47f5-b16c-f3723a1f52ee",
   "metadata": {},
   "source": [
    "The value can be assigned to a variable using an equal sign. The value on the right side of the equal sign is always assigned to the variable on the left side."
   ]
  },
  {
   "cell_type": "code",
   "execution_count": 10,
   "id": "2e75e62c-2bb7-404b-9722-203e09011903",
   "metadata": {},
   "outputs": [],
   "source": [
    "x = 20.0\n",
    "b = 'hello, world'\n",
    "d = {'balloon': 34, 'house': 5}"
   ]
  },
  {
   "cell_type": "markdown",
   "id": "eb286bbf-8eb7-4bf2-8a4a-794c746bbc4d",
   "metadata": {},
   "source": [
    "Operations performed on the variable will affect the value in it."
   ]
  },
  {
   "cell_type": "code",
   "execution_count": 11,
   "id": "6d4d942c-f737-4d2b-8897-520642647bd6",
   "metadata": {},
   "outputs": [
    {
     "data": {
      "text/plain": [
       "40.0"
      ]
     },
     "execution_count": 11,
     "metadata": {},
     "output_type": "execute_result"
    }
   ],
   "source": [
    "x * 2"
   ]
  },
  {
   "cell_type": "code",
   "execution_count": 12,
   "id": "a00a169d-2aff-4fe6-991c-8a1003b71a73",
   "metadata": {},
   "outputs": [
    {
     "data": {
      "text/plain": [
       "'HELLO, WORLD'"
      ]
     },
     "execution_count": 12,
     "metadata": {},
     "output_type": "execute_result"
    }
   ],
   "source": [
    "b.upper()  # upper method is a function that convert letters to uppercase."
   ]
  },
  {
   "cell_type": "code",
   "execution_count": 15,
   "id": "53bc34c6-9a28-4bfc-a803-b4ae2ba37b27",
   "metadata": {},
   "outputs": [
    {
     "data": {
      "text/plain": [
       "34"
      ]
     },
     "execution_count": 15,
     "metadata": {},
     "output_type": "execute_result"
    }
   ],
   "source": [
    "d.pop('balloon')  # pop method in a dictionary removes an item with a given key and returns its value"
   ]
  },
  {
   "cell_type": "markdown",
   "id": "68314245-1013-4faa-9bd9-4c7795fedcf8",
   "metadata": {},
   "source": [
    "The value can be assigned to multiple names."
   ]
  },
  {
   "cell_type": "code",
   "execution_count": 16,
   "id": "2e5ed0b8-3292-4af6-9e44-47a78ad20bc0",
   "metadata": {},
   "outputs": [
    {
     "name": "stdout",
     "output_type": "stream",
     "text": [
      "30 30 30\n"
     ]
    }
   ],
   "source": [
    "x = y = z = 30\n",
    "print(x, y, z)"
   ]
  },
  {
   "cell_type": "code",
   "execution_count": 17,
   "id": "21331781-deb1-475b-b9a0-d9cbe004f383",
   "metadata": {},
   "outputs": [
    {
     "name": "stdout",
     "output_type": "stream",
     "text": [
      "34 24 35\n"
     ]
    }
   ],
   "source": [
    "x, y, z = 34, 24, 35  # this is a technique called unpacking\n",
    "print(x, y, z)"
   ]
  },
  {
   "cell_type": "code",
   "execution_count": 18,
   "id": "b7646827-e47f-4b42-a37a-dd5d9931665b",
   "metadata": {},
   "outputs": [
    {
     "name": "stdout",
     "output_type": "stream",
     "text": [
      "50 40\n"
     ]
    }
   ],
   "source": [
    "x = 40\n",
    "y = 50\n",
    "\n",
    "x, y = y, x\n",
    "\n",
    "print(x, y)"
   ]
  },
  {
   "cell_type": "markdown",
   "id": "42a2f332-6bbe-4b55-a87b-fc8646314f9b",
   "metadata": {},
   "source": [
    "You can use Python's string formatting to print out values of the variables."
   ]
  },
  {
   "cell_type": "code",
   "execution_count": 20,
   "id": "f19c9152-e68c-4a41-89cb-631889b03cc6",
   "metadata": {},
   "outputs": [
    {
     "name": "stdout",
     "output_type": "stream",
     "text": [
      "y=60, x=500\n"
     ]
    }
   ],
   "source": [
    "x = 500; y = 60\n",
    "\n",
    "print(f'y={y}, x={x}')  # this is something called f string formatting, more on this later."
   ]
  },
  {
   "cell_type": "markdown",
   "id": "90f69447-3ec7-4973-b196-77ed4daad060",
   "metadata": {},
   "source": [
    "## Gotchas"
   ]
  },
  {
   "cell_type": "markdown",
   "id": "ab007ab0-2048-46be-9c17-3c18a310b217",
   "metadata": {},
   "source": [
    "In Python, a variable of non-primitive data types is just a name, not a place. The variable just points to a place in a memory that stores the data."
   ]
  },
  {
   "cell_type": "code",
   "execution_count": 7,
   "id": "07c85625-d235-470d-9c84-b55d6b8b537f",
   "metadata": {},
   "outputs": [
    {
     "name": "stdout",
     "output_type": "stream",
     "text": [
      "6 5\n"
     ]
    }
   ],
   "source": [
    "a = 5  # int is primitive data type\n",
    "b = a  # b is now has a value 5, another set of data\n",
    "a += 1  # 1 is added to a, only the value in a is incremented\n",
    "print(a, b)"
   ]
  },
  {
   "cell_type": "code",
   "execution_count": 9,
   "id": "65753389-a56f-4809-b7eb-12209a0625a0",
   "metadata": {},
   "outputs": [
    {
     "name": "stdout",
     "output_type": "stream",
     "text": [
      "[1, 2]\n"
     ]
    }
   ],
   "source": [
    "a = [1,2,3]\n",
    "b = a  # b now points to a place that stores a list for a list is not a primitive data type.\n",
    "a.pop()  # when the value that a points to changes, the value in b changes as well\n",
    "print(b)  # since b points to the same data location, the last item is also removed (popped) in b"
   ]
  },
  {
   "cell_type": "markdown",
   "id": "ce49750e-d84a-4db5-88bd-472b7c2656ce",
   "metadata": {},
   "source": [
    "## Advanced concept"
   ]
  },
  {
   "cell_type": "markdown",
   "id": "6da6fe85-601e-4b31-8fbf-fe1723da6479",
   "metadata": {},
   "source": [
    "Python is a **strongly typed** language. The data type cannot be changed and operation between two different types is usually not supported. However, operators may function differently when applied to different data types. This is called **operator overloading**."
   ]
  },
  {
   "cell_type": "code",
   "execution_count": 26,
   "id": "a317aafb-5446-4e61-9a7d-1e76c161ea31",
   "metadata": {},
   "outputs": [
    {
     "ename": "TypeError",
     "evalue": "unsupported operand type(s) for +: 'int' and 'str'",
     "output_type": "error",
     "traceback": [
      "\u001b[1;31m---------------------------------------------------------------------------\u001b[0m",
      "\u001b[1;31mTypeError\u001b[0m                                 Traceback (most recent call last)",
      "\u001b[1;32m~\\AppData\\Local\\Temp/ipykernel_30560/3264992788.py\u001b[0m in \u001b[0;36m<module>\u001b[1;34m\u001b[0m\n\u001b[1;32m----> 1\u001b[1;33m \u001b[1;36m1\u001b[0m \u001b[1;33m+\u001b[0m \u001b[1;34m'1'\u001b[0m  \u001b[1;31m# ADDITION OF THE INTEGER AND STRING IS NOT ALLOWED\u001b[0m\u001b[1;33m\u001b[0m\u001b[1;33m\u001b[0m\u001b[0m\n\u001b[0m",
      "\u001b[1;31mTypeError\u001b[0m: unsupported operand type(s) for +: 'int' and 'str'"
     ]
    }
   ],
   "source": [
    "1 + '1'  # ADDITION OF THE INTEGER AND STRING IS NOT ALLOWED"
   ]
  },
  {
   "cell_type": "code",
   "execution_count": 27,
   "id": "67b712d7-a6b7-44e9-a24e-b8f997f42942",
   "metadata": {},
   "outputs": [
    {
     "ename": "TypeError",
     "evalue": "can only concatenate str (not \"int\") to str",
     "output_type": "error",
     "traceback": [
      "\u001b[1;31m---------------------------------------------------------------------------\u001b[0m",
      "\u001b[1;31mTypeError\u001b[0m                                 Traceback (most recent call last)",
      "\u001b[1;32m~\\AppData\\Local\\Temp/ipykernel_30560/2758765718.py\u001b[0m in \u001b[0;36m<module>\u001b[1;34m\u001b[0m\n\u001b[1;32m----> 1\u001b[1;33m \u001b[1;34m'a'\u001b[0m \u001b[1;33m+\u001b[0m \u001b[1;36m1\u001b[0m  \u001b[1;31m# addition of string and integer is also not allowed.\u001b[0m\u001b[1;33m\u001b[0m\u001b[1;33m\u001b[0m\u001b[0m\n\u001b[0m",
      "\u001b[1;31mTypeError\u001b[0m: can only concatenate str (not \"int\") to str"
     ]
    }
   ],
   "source": [
    "'a' + 1  # addition of string and integer is also not allowed."
   ]
  },
  {
   "cell_type": "code",
   "execution_count": 28,
   "id": "47379280-3f19-4bf6-a99c-9f97a5202277",
   "metadata": {},
   "outputs": [
    {
     "data": {
      "text/plain": [
       "'ab'"
      ]
     },
     "execution_count": 28,
     "metadata": {},
     "output_type": "execute_result"
    }
   ],
   "source": [
    "'a' + 'b'  # however, a plus operator, when applied to strings, it will concatenate them."
   ]
  },
  {
   "cell_type": "code",
   "execution_count": 29,
   "id": "3d669c70-35b0-44bc-9ac0-bb8dbeaf5972",
   "metadata": {},
   "outputs": [
    {
     "data": {
      "text/plain": [
       "'aaaaa'"
      ]
     },
     "execution_count": 29,
     "metadata": {},
     "output_type": "execute_result"
    }
   ],
   "source": [
    "'a' * 5  # a multiply operator interpreted as multiple concatenation"
   ]
  },
  {
   "cell_type": "markdown",
   "id": "c5c217e0-d00d-49f0-bece-6f38ed5b59d0",
   "metadata": {},
   "source": [
    "### Fizzbuzz"
   ]
  },
  {
   "cell_type": "code",
   "execution_count": 24,
   "id": "c29d1736-528b-4a8e-b3fd-a3c71c8515a9",
   "metadata": {},
   "outputs": [
    {
     "name": "stdout",
     "output_type": "stream",
     "text": [
      "3 = fizz\n",
      "5 = buzz\n",
      "6 = fizz\n",
      "9 = fizz\n",
      "10 = buzz\n",
      "12 = fizz\n",
      "15 = fizz buzz\n",
      "18 = fizz\n",
      "20 = buzz\n",
      "21 = fizz\n",
      "24 = fizz\n",
      "25 = buzz\n",
      "27 = fizz\n",
      "30 = fizz buzz\n",
      "33 = fizz\n",
      "35 = buzz\n",
      "36 = fizz\n",
      "39 = fizz\n",
      "40 = buzz\n",
      "42 = fizz\n",
      "45 = fizz buzz\n",
      "48 = fizz\n"
     ]
    }
   ],
   "source": [
    "n = 1\n",
    "while n < 50:\n",
    "    if n % 15 == 0:\n",
    "        print(f'{n} = fizz buzz')\n",
    "    elif n % 5 == 0:\n",
    "        print(f'{n} = buzz')\n",
    "    elif n % 3 == 0:\n",
    "        print(f'{n} = fizz')\n",
    "    n += 1"
   ]
  },
  {
   "cell_type": "code",
   "execution_count": null,
   "id": "ce577826-03e8-47ef-89f8-1954bd5f5582",
   "metadata": {},
   "outputs": [],
   "source": []
  }
 ],
 "metadata": {
  "kernelspec": {
   "display_name": "Python 3 (ipykernel)",
   "language": "python",
   "name": "python3"
  },
  "language_info": {
   "codemirror_mode": {
    "name": "ipython",
    "version": 3
   },
   "file_extension": ".py",
   "mimetype": "text/x-python",
   "name": "python",
   "nbconvert_exporter": "python",
   "pygments_lexer": "ipython3",
   "version": "3.9.7"
  }
 },
 "nbformat": 4,
 "nbformat_minor": 5
}
