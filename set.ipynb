{
 "cells": [
  {
   "cell_type": "markdown",
   "id": "84e3da4e-fd23-484a-956d-5a973f570244",
   "metadata": {},
   "source": [
    "# Python Set"
   ]
  },
  {
   "cell_type": "markdown",
   "id": "e372cc31-7f16-44ea-82b9-08fb8a4b6ea9",
   "metadata": {},
   "source": [
    "A **set** is a collection data type that only contains unique values."
   ]
  },
  {
   "cell_type": "code",
   "execution_count": 1,
   "id": "b41c270b-2345-49c0-ac5a-de8beba10bdc",
   "metadata": {},
   "outputs": [
    {
     "data": {
      "text/plain": [
       "{'a', 'b', 'c', 'd'}"
      ]
     },
     "execution_count": 1,
     "metadata": {},
     "output_type": "execute_result"
    }
   ],
   "source": [
    "{'a', 'b', 'c', 'd'}  # this is a set with four unique values"
   ]
  },
  {
   "cell_type": "markdown",
   "id": "12e9bfc5-6801-4f42-8671-af7b5302808a",
   "metadata": {},
   "source": [
    "## A set construction"
   ]
  },
  {
   "cell_type": "markdown",
   "id": "1bd05192-f98a-478c-8096-c3265243c111",
   "metadata": {},
   "source": [
    "A set can be created literally or using a set function (constructor)."
   ]
  },
  {
   "cell_type": "code",
   "execution_count": 5,
   "id": "5d1939bd-a879-4590-a093-a8f3d527403c",
   "metadata": {},
   "outputs": [
    {
     "name": "stdout",
     "output_type": "stream",
     "text": [
      "{'a', 'c', 'd', 'b'}\n",
      "{'c', 'd', 'b', 'a'}\n"
     ]
    }
   ],
   "source": [
    "aset = {'a', 'b', 'c', 'd', 'a', 'b'}  # literally create a set\n",
    "bset = set(['a', 'b', 'c', 'd', 'a', 'b'])  # using a set constructor\n",
    "\n",
    "print(aset)\n",
    "print(bset)  # note that only unique values are kept and the order of the items does not matter"
   ]
  },
  {
   "cell_type": "markdown",
   "id": "7f4f2864-f7a5-4544-bf44-3ac2ebb01d16",
   "metadata": {},
   "source": [
    "A set constructor accepts iterables, which are data types, funciton (iterator) that when looped over can return one value at a time."
   ]
  },
  {
   "cell_type": "code",
   "execution_count": 7,
   "id": "78e003f7-267e-48be-8c22-5acefe547d97",
   "metadata": {},
   "outputs": [
    {
     "name": "stdout",
     "output_type": "stream",
     "text": [
      "{'c', 'd', 'b', 'a'}\n",
      "{'c', 'd', 'b', 'a'}\n"
     ]
    }
   ],
   "source": [
    "bset = set(['a', 'b', 'c', 'd', 'a', 'b'])  # a list in Python is an iterable\n",
    "cset = set('abcdab')  # a string in Python is an iterable\n",
    "\n",
    "print(bset)\n",
    "print(cset)"
   ]
  },
  {
   "cell_type": "markdown",
   "id": "e9f2eef5-d174-4677-a63c-0cfa8b1e734f",
   "metadata": {},
   "source": [
    "Because a set and a dictionary in Python use {}. To create an empty set, you need to use a constructor only."
   ]
  },
  {
   "cell_type": "code",
   "execution_count": 30,
   "id": "de6db500-3026-41ee-892d-5804a291d99e",
   "metadata": {},
   "outputs": [
    {
     "name": "stdout",
     "output_type": "stream",
     "text": [
      "set()\n"
     ]
    }
   ],
   "source": [
    "my_empty_set = set()\n",
    "print(my_empty_set)"
   ]
  },
  {
   "cell_type": "markdown",
   "id": "bfc60778-ab37-4446-b3db-dbf552ceaddd",
   "metadata": {},
   "source": [
    "Values that can be stored in a set must be hashable (immutable). Trying to create a set of mutable data types will raise _TypeError_."
   ]
  },
  {
   "cell_type": "code",
   "execution_count": 45,
   "id": "620082a5-58d8-4434-9c0f-bdf409a5ea84",
   "metadata": {},
   "outputs": [
    {
     "ename": "TypeError",
     "evalue": "unhashable type: 'list'",
     "output_type": "error",
     "traceback": [
      "\u001b[0;31m---------------------------------------------------------------------------\u001b[0m",
      "\u001b[0;31mTypeError\u001b[0m                                 Traceback (most recent call last)",
      "Input \u001b[0;32mIn [45]\u001b[0m, in \u001b[0;36m<cell line: 1>\u001b[0;34m()\u001b[0m\n\u001b[0;32m----> 1\u001b[0m aset \u001b[38;5;241m=\u001b[39m {[\u001b[38;5;241m23\u001b[39m, \u001b[38;5;241m30\u001b[39m, \u001b[38;5;241m45\u001b[39m]}\n",
      "\u001b[0;31mTypeError\u001b[0m: unhashable type: 'list'"
     ]
    }
   ],
   "source": [
    "aset = {[23, 30, 45]}  # this won't work because a list is mutable."
   ]
  },
  {
   "cell_type": "markdown",
   "id": "b91d91f8-c528-4e19-96cf-1393d0df2d1d",
   "metadata": {},
   "source": [
    "**Note** a hashable value is a value that fixed and can be hashed (transformed) by a specific mathematical function to a new specific value. Python comes with several common hash algorithms that you can use to transform values."
   ]
  },
  {
   "cell_type": "code",
   "execution_count": 52,
   "id": "6847320b-9055-450b-88bb-32af6cd4dc66",
   "metadata": {},
   "outputs": [
    {
     "name": "stdout",
     "output_type": "stream",
     "text": [
      "75621aac7ddd7446837579c50ae2b168\n",
      "397cc360bce06ec9538e5f111c8f300e\n"
     ]
    }
   ],
   "source": [
    "import hashlib\n",
    "\n",
    "message = 'this is a secret message I want to send to Thailand'\n",
    "\n",
    "md5_value = hashlib.md5(message.encode('utf8'))\n",
    "print(md5_value.hexdigest())  # returns a specfic hash\n",
    "\n",
    "# if the message changes, so does the hash value\n",
    "md5_value = hashlib.md5(message.replace('Thailand', 'Japan').encode('utf8'))\n",
    "print(md5_value.hexdigest())  # returns a specfic hash"
   ]
  },
  {
   "cell_type": "markdown",
   "id": "dfd64e6d-4d87-4004-bb4e-785ce423803b",
   "metadata": {},
   "source": [
    "## Accessing values"
   ]
  },
  {
   "cell_type": "markdown",
   "id": "aef257f0-ab63-44c7-8c5f-92b83c3110a8",
   "metadata": {},
   "source": [
    "A set cannot be indexed like a list because the position of the items in a set is uncertain. Trying to get a value from a set using an index will raise _TypeError_."
   ]
  },
  {
   "cell_type": "code",
   "execution_count": 8,
   "id": "0529f8d2-3645-457d-b29f-aafb7b710c19",
   "metadata": {},
   "outputs": [
    {
     "ename": "TypeError",
     "evalue": "'set' object is not subscriptable",
     "output_type": "error",
     "traceback": [
      "\u001b[0;31m---------------------------------------------------------------------------\u001b[0m",
      "\u001b[0;31mTypeError\u001b[0m                                 Traceback (most recent call last)",
      "Input \u001b[0;32mIn [8]\u001b[0m, in \u001b[0;36m<cell line: 3>\u001b[0;34m()\u001b[0m\n\u001b[1;32m      1\u001b[0m cset \u001b[38;5;241m=\u001b[39m \u001b[38;5;28mset\u001b[39m(\u001b[38;5;124m'\u001b[39m\u001b[38;5;124mabcdab\u001b[39m\u001b[38;5;124m'\u001b[39m)\n\u001b[0;32m----> 3\u001b[0m \u001b[43mcset\u001b[49m\u001b[43m[\u001b[49m\u001b[38;5;241;43m3\u001b[39;49m\u001b[43m]\u001b[49m\n",
      "\u001b[0;31mTypeError\u001b[0m: 'set' object is not subscriptable"
     ]
    }
   ],
   "source": [
    "cset = set('abcdab')\n",
    "\n",
    "cset[3]"
   ]
  },
  {
   "cell_type": "markdown",
   "id": "e0f2e986-c9ce-47f0-bdbd-d162fada77f3",
   "metadata": {},
   "source": [
    "However, you can use **in** operator to check if the value is in a set."
   ]
  },
  {
   "cell_type": "code",
   "execution_count": 12,
   "id": "02a6a3a9-ed44-45f5-99be-6d09998135b0",
   "metadata": {},
   "outputs": [
    {
     "name": "stdout",
     "output_type": "stream",
     "text": [
      "True\n",
      "False\n"
     ]
    }
   ],
   "source": [
    "cset = set('abcdab')\n",
    "\n",
    "print('a' in cset)\n",
    "print('x' in cset)"
   ]
  },
  {
   "cell_type": "markdown",
   "id": "7637f561-789c-4704-927b-8b267e4256f0",
   "metadata": {},
   "source": [
    "Looking up a value in a set is much faster than a list. Therefore, if you want to just check whether the value is in a list, convert a list to a set and then search for it using **in** operator."
   ]
  },
  {
   "cell_type": "code",
   "execution_count": 43,
   "id": "5fd134a5-467e-4fc5-a66b-e26c78172d4a",
   "metadata": {},
   "outputs": [
    {
     "name": "stdout",
     "output_type": "stream",
     "text": [
      "47.9 ns ± 2.37 ns per loop (mean ± std. dev. of 7 runs, 10,000,000 loops each)\n",
      "115 µs ± 485 ns per loop (mean ± std. dev. of 7 runs, 10,000 loops each)\n"
     ]
    }
   ],
   "source": [
    "alist = list(range(10000))  # creates a list of 1000 integers\n",
    "aset = set(alist)\n",
    "%timeit 9999 in aset\n",
    "%timeit 9999 in alist"
   ]
  },
  {
   "cell_type": "markdown",
   "id": "ce7c0c84-589a-41fe-972a-8c120a24f538",
   "metadata": {},
   "source": [
    "**Note** the time used to search for the value in a set is much faster!! So, remember to use set if you want to just search for a value."
   ]
  },
  {
   "cell_type": "markdown",
   "id": "ee9a864c-26f3-44d9-bd51-452214f1b03b",
   "metadata": {},
   "source": [
    "Like a list, the size of a set can be found using a len function."
   ]
  },
  {
   "cell_type": "code",
   "execution_count": 14,
   "id": "26350c1a-ee51-43e1-9623-a626c849a66e",
   "metadata": {},
   "outputs": [
    {
     "name": "stdout",
     "output_type": "stream",
     "text": [
      "4\n"
     ]
    }
   ],
   "source": [
    "cset = set('abcdab')\n",
    "\n",
    "print(len(cset))"
   ]
  },
  {
   "cell_type": "markdown",
   "id": "f54a03fd-f971-4fab-839e-87f02323c984",
   "metadata": {},
   "source": [
    "## Built-in methods"
   ]
  },
  {
   "cell_type": "code",
   "execution_count": 19,
   "id": "83b56b8e-6cdf-4766-b3eb-6dd5c94772c4",
   "metadata": {},
   "outputs": [
    {
     "name": "stdout",
     "output_type": "stream",
     "text": [
      "{'c', 'd', 'a', 'xyz', 'b'}\n"
     ]
    }
   ],
   "source": [
    "cset = set('abcdab')\n",
    "\n",
    "cset.add('xyz')\n",
    "print(cset)"
   ]
  },
  {
   "cell_type": "code",
   "execution_count": 20,
   "id": "5bedee7f-0f5b-4f17-b540-7dc9f9fca4ba",
   "metadata": {},
   "outputs": [
    {
     "name": "stdout",
     "output_type": "stream",
     "text": [
      "c\n",
      "d\n",
      "b\n",
      "a\n",
      "set()\n"
     ]
    }
   ],
   "source": [
    "cset = set('abcdab')\n",
    "\n",
    "for i in range(len(cset)):\n",
    "    value = cset.pop()\n",
    "    print(value)\n",
    "print(cset)  # the set is now empty"
   ]
  },
  {
   "cell_type": "markdown",
   "id": "85bc0e6a-e7a3-4fa9-8702-48218f842efb",
   "metadata": {},
   "source": [
    "A set comes with methods for common set operations."
   ]
  },
  {
   "cell_type": "code",
   "execution_count": 22,
   "id": "97373c6e-278a-4ad8-9888-623f65b4c3a5",
   "metadata": {},
   "outputs": [
    {
     "name": "stdout",
     "output_type": "stream",
     "text": [
      "{'e', 'c', 'i', 'd', 'a', 'f', 'g', 'h', 'b'}\n",
      "{'e', 'f', 'g', 'd'}\n",
      "{'c', 'b', 'a'}\n"
     ]
    }
   ],
   "source": [
    "aset = set('abcdefg')\n",
    "bset = set('defghi')\n",
    "\n",
    "print(aset.union(bset))\n",
    "print(bset.intersection(aset))\n",
    "print(aset.difference(bset))"
   ]
  },
  {
   "cell_type": "code",
   "execution_count": 24,
   "id": "9317a79c-92cb-4f4e-a590-abb95251e24f",
   "metadata": {},
   "outputs": [
    {
     "name": "stdout",
     "output_type": "stream",
     "text": [
      "{'e', 'c', 'i', 'd', 'a', 'f', 'g', 'h', 'b'}\n"
     ]
    }
   ],
   "source": [
    "aset = set('abcdefg')\n",
    "bset = set('defghi')\n",
    "aset.update(bset)  # aset can be combined with bset with an update method\n",
    "print(aset)"
   ]
  },
  {
   "cell_type": "code",
   "execution_count": 26,
   "id": "182f6645-3e6f-4c81-a0e5-782d019b066d",
   "metadata": {},
   "outputs": [
    {
     "name": "stdout",
     "output_type": "stream",
     "text": [
      "{'c', 'a', 'b'}\n"
     ]
    }
   ],
   "source": [
    "aset = set('abcdefg')\n",
    "bset = set('defghi')\n",
    "\n",
    "aset.difference_update(bset)  # only keeps the differences\n",
    "print(aset)"
   ]
  },
  {
   "cell_type": "code",
   "execution_count": 27,
   "id": "ef0497d1-dfd6-47b0-afa3-9efa6032168f",
   "metadata": {},
   "outputs": [
    {
     "name": "stdout",
     "output_type": "stream",
     "text": [
      "{'e', 'f', 'g', 'd'}\n"
     ]
    }
   ],
   "source": [
    "aset = set('abcdefg')\n",
    "bset = set('defghi')\n",
    "\n",
    "aset.intersection_update(bset)  # only keeps the differences\n",
    "print(aset)  # only keeps common values"
   ]
  },
  {
   "cell_type": "markdown",
   "id": "4807d5a3-1d1c-436a-a140-93a5ca7a175d",
   "metadata": {},
   "source": [
    "**Note** all update related methods alters a set in-place."
   ]
  },
  {
   "cell_type": "code",
   "execution_count": 28,
   "id": "89fa1942-6ebe-454b-831b-d6ebbcccc1ab",
   "metadata": {},
   "outputs": [
    {
     "name": "stdout",
     "output_type": "stream",
     "text": [
      "set()\n"
     ]
    }
   ],
   "source": [
    "aset = set('abcdefg')\n",
    "\n",
    "aset.clear()  # clear out the set\n",
    "\n",
    "print(aset)"
   ]
  },
  {
   "cell_type": "code",
   "execution_count": null,
   "id": "b8359371-a9d0-4628-924b-ba901c383dd4",
   "metadata": {},
   "outputs": [],
   "source": []
  }
 ],
 "metadata": {
  "kernelspec": {
   "display_name": "Python 3 (ipykernel)",
   "language": "python",
   "name": "python3"
  },
  "language_info": {
   "codemirror_mode": {
    "name": "ipython",
    "version": 3
   },
   "file_extension": ".py",
   "mimetype": "text/x-python",
   "name": "python",
   "nbconvert_exporter": "python",
   "pygments_lexer": "ipython3",
   "version": "3.9.7"
  }
 },
 "nbformat": 4,
 "nbformat_minor": 5
}
