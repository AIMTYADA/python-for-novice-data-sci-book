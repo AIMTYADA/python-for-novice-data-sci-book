{
  "nbformat": 4,
  "nbformat_minor": 0,
  "metadata": {
    "colab": {
      "name": "Module2_NumPy.ipynb",
      "provenance": [],
      "collapsed_sections": [
        "sFyVMz5lEnTN",
        "h6oTAa6qLb6m",
        "Dj1jk1DaP-W2"
      ]
    },
    "kernelspec": {
      "name": "python3",
      "display_name": "Python 3"
    },
    "language_info": {
      "name": "python"
    }
  },
  "cells": [
    {
      "cell_type": "markdown",
      "source": [
        "#**NumPy Basics: Arrays and Vectorized Computation**\n",
        "\n",
        "Efficient and fast data analytic operations\n",
        "* mathematical operations\n",
        "* data cleaning\n",
        "* data filtering\n",
        "* data transformation"
      ],
      "metadata": {
        "id": "sFyVMz5lEnTN"
      }
    },
    {
      "cell_type": "code",
      "source": [
        "import numpy as np"
      ],
      "metadata": {
        "id": "fAbmnuWzLayf"
      },
      "execution_count": 2,
      "outputs": []
    },
    {
      "cell_type": "markdown",
      "source": [
        "##**NumPy Example: Mathematical Operations**\n",
        "*   Perform complex computations on entire arrays without the need for Python 'for' loops\n",
        "*   Fast"
      ],
      "metadata": {
        "id": "h6oTAa6qLb6m"
      }
    },
    {
      "cell_type": "code",
      "execution_count": 3,
      "metadata": {
        "id": "fSCiaDLz-1oE",
        "colab": {
          "base_uri": "https://localhost:8080/"
        },
        "outputId": "8479ba4c-14a3-47de-be5f-0fa570045667"
      },
      "outputs": [
        {
          "output_type": "execute_result",
          "data": {
            "text/plain": [
              "array([ 10,  20,  30,  40,  50,  60,  70,  80,  90, 100])"
            ]
          },
          "metadata": {},
          "execution_count": 3
        }
      ],
      "source": [
        "# create NumPy array, value from 0 to 1000000\n",
        "array_NumPy = np.array([10,20,30,40,50,60,70,80,90,100])\n",
        "array_NumPy"
      ]
    },
    {
      "cell_type": "code",
      "source": [
        "my_list = [10,20,30,40,50,60,70,80,90,100]\n",
        "my_list"
      ],
      "metadata": {
        "colab": {
          "base_uri": "https://localhost:8080/"
        },
        "id": "_d9vXiiBjcVi",
        "outputId": "49992df1-858b-4457-ba8a-ed4c767b68f2"
      },
      "execution_count": 4,
      "outputs": [
        {
          "output_type": "execute_result",
          "data": {
            "text/plain": [
              "[10, 20, 30, 40, 50, 60, 70, 80, 90, 100]"
            ]
          },
          "metadata": {},
          "execution_count": 4
        }
      ]
    },
    {
      "cell_type": "markdown",
      "source": [
        "Mathematical computations on *'List'* vs NumPy *'Array'*"
      ],
      "metadata": {
        "id": "zoSrAOhjOQts"
      }
    },
    {
      "cell_type": "code",
      "source": [
        "# List: all element multiplication\n",
        "for i in range(len(my_list)):\n",
        "  my_list[i] = my_list[i]*2\n",
        "\n",
        "my_list[:10] #show first 10 elements in list"
      ],
      "metadata": {
        "colab": {
          "base_uri": "https://localhost:8080/"
        },
        "id": "RiwT1b9wOMMi",
        "outputId": "b2c3d00d-da2c-4584-b28d-8c7c42628a01"
      },
      "execution_count": 5,
      "outputs": [
        {
          "output_type": "execute_result",
          "data": {
            "text/plain": [
              "[20, 40, 60, 80, 100, 120, 140, 160, 180, 200]"
            ]
          },
          "metadata": {},
          "execution_count": 5
        }
      ]
    },
    {
      "cell_type": "code",
      "source": [
        "# NumPy Array: all element multiplication\n",
        "array_NumPy = array_NumPy * 2\n",
        "array_NumPy"
      ],
      "metadata": {
        "colab": {
          "base_uri": "https://localhost:8080/"
        },
        "id": "1xFOQ8wrGQCN",
        "outputId": "482f73c3-2923-4ae0-f262-846ffbaf41a5"
      },
      "execution_count": 6,
      "outputs": [
        {
          "output_type": "execute_result",
          "data": {
            "text/plain": [
              "array([ 20,  40,  60,  80, 100, 120, 140, 160, 180, 200])"
            ]
          },
          "metadata": {},
          "execution_count": 6
        }
      ]
    },
    {
      "cell_type": "markdown",
      "source": [
        "\n",
        "\n",
        "---\n",
        "\n",
        "\n",
        "## **Creating NumPy Array**"
      ],
      "metadata": {
        "id": "_7fRuOAVLq6s"
      }
    },
    {
      "cell_type": "markdown",
      "source": [
        "**NumPy array from list**"
      ],
      "metadata": {
        "id": "PlSgbQJdMEyh"
      }
    },
    {
      "cell_type": "markdown",
      "source": [
        "> 1D NumPy Array"
      ],
      "metadata": {
        "id": "VsRFezfzN-sK"
      }
    },
    {
      "cell_type": "code",
      "source": [
        "import numpy as np\n",
        "\n",
        "dataList = [9,8,7,6,5,4,3,2,1]\n",
        "print(type(dataList))\n",
        "dataNdarray = np.array(dataList)\n",
        "print(type(dataNdarray))"
      ],
      "metadata": {
        "id": "222-Y_dcLv8W"
      },
      "execution_count": null,
      "outputs": []
    },
    {
      "cell_type": "code",
      "source": [
        "# 1D NumPy array\n",
        "dataNdarray.shape"
      ],
      "metadata": {
        "id": "oWvOrjqoMx_o"
      },
      "execution_count": null,
      "outputs": []
    },
    {
      "cell_type": "code",
      "source": [
        "dataNdarray.dtype"
      ],
      "metadata": {
        "id": "JX5iUgFTM02W"
      },
      "execution_count": null,
      "outputs": []
    },
    {
      "cell_type": "markdown",
      "source": [
        "> 2D NumPy Array "
      ],
      "metadata": {
        "id": "2UZRDk9JOBuF"
      }
    },
    {
      "cell_type": "code",
      "source": [
        "# 2D NumPy array\n",
        "dataNdarray2 = np.array([[1.0,3.0,5.0,7.0,9.0],[2.0,4.0,6.0,8.0,10.0]])\n",
        "print(dataNdarray2)\n"
      ],
      "metadata": {
        "id": "qFCDlrTeNJ1N"
      },
      "execution_count": null,
      "outputs": []
    },
    {
      "cell_type": "code",
      "source": [
        "print(dataNdarray2.shape)\n",
        "# (row, column)"
      ],
      "metadata": {
        "id": "SLczaxdxOF5O"
      },
      "execution_count": null,
      "outputs": []
    },
    {
      "cell_type": "code",
      "source": [
        "print(dataNdarray2.dtype)"
      ],
      "metadata": {
        "id": "Xxl9O7CKOHLy"
      },
      "execution_count": null,
      "outputs": []
    },
    {
      "cell_type": "markdown",
      "source": [
        "**Creating new NumPy array with value=0**\n",
        "\n",
        "\n",
        "*   np.zeros(size)\n",
        "\n"
      ],
      "metadata": {
        "id": "NdNOwVnwMAAg"
      }
    },
    {
      "cell_type": "code",
      "source": [
        "array1 = np.zeros(4)\n",
        "print(array1)"
      ],
      "metadata": {
        "id": "ua1gYRUpOvED"
      },
      "execution_count": null,
      "outputs": []
    },
    {
      "cell_type": "code",
      "source": [
        "# 2D np.zeros\n",
        "array2 = np.zeros([2,5])\n",
        "print(array2)"
      ],
      "metadata": {
        "id": "1lsVll7hPCK3"
      },
      "execution_count": null,
      "outputs": []
    },
    {
      "cell_type": "markdown",
      "source": [
        "**Creating new NumPy array with value=1**"
      ],
      "metadata": {
        "id": "qBYTp9lkPFLs"
      }
    },
    {
      "cell_type": "code",
      "source": [
        "array1 = np.ones(7)\n",
        "print(array1)"
      ],
      "metadata": {
        "id": "Fzt2p4rwPHsu"
      },
      "execution_count": null,
      "outputs": []
    },
    {
      "cell_type": "markdown",
      "source": [
        "**Creating new NumPy array with range values**\n",
        "\n",
        "*   ex. ranges from 0 to 10\n",
        "*   [0, 1, 2, 3, ..., 10 ]"
      ],
      "metadata": {
        "id": "93o7vxzVPLhL"
      }
    },
    {
      "cell_type": "code",
      "source": [
        "array1 = np.arange(10)\n",
        "array1"
      ],
      "metadata": {
        "id": "TXDSwZvXPeia"
      },
      "execution_count": null,
      "outputs": []
    },
    {
      "cell_type": "code",
      "source": [
        "# Custom np.arange\n",
        "array2 = np.arange(20,25)\n",
        "array2"
      ],
      "metadata": {
        "id": "ZJqhQlTdPtKA"
      },
      "execution_count": null,
      "outputs": []
    },
    {
      "cell_type": "code",
      "source": [
        "# np.arange(start value, stop value, increment)\n",
        "array3 = np.arange(50, 100, 5)\n",
        "array3"
      ],
      "metadata": {
        "id": "aWJ2A5Tk6tSa"
      },
      "execution_count": null,
      "outputs": []
    },
    {
      "cell_type": "markdown",
      "source": [
        "**Creating new NumPy array with random values**"
      ],
      "metadata": {
        "id": "70LLaRZVQxIv"
      }
    },
    {
      "cell_type": "code",
      "source": [
        "array1 = np.random.rand(5)\n",
        "array1"
      ],
      "metadata": {
        "id": "NjCrjms9Qz-F"
      },
      "execution_count": null,
      "outputs": []
    },
    {
      "cell_type": "markdown",
      "source": [
        "\n",
        "\n",
        "---\n",
        "\n"
      ],
      "metadata": {
        "id": "Y532GQOVP3Wq"
      }
    },
    {
      "cell_type": "markdown",
      "source": [
        "## **Computation Time with NumPy Array**"
      ],
      "metadata": {
        "id": "KvytvCIVQRPJ"
      }
    },
    {
      "cell_type": "code",
      "source": [
        "# Create array/list from 0 to 1000000\n",
        "array_NumPy = np.arange(1000000)\n",
        "my_list = list(range(1000000))\n",
        "\n",
        "# Do Multiple(x10 times) Mathematical Operations\n",
        "print(\"NumPy timing:\")\n",
        "%time for _ in range(10): array_NumPy2 = array_NumPy * 2\n",
        "print(\"List timing:\")\n",
        "%time for _ in range(10): my_list2 = [x * 2 for x in my_list]"
      ],
      "metadata": {
        "id": "rIdZ38vPPQrN"
      },
      "execution_count": null,
      "outputs": []
    },
    {
      "cell_type": "markdown",
      "source": [
        "\n",
        "\n",
        "---\n",
        "\n",
        "\n",
        "## **Arithmetic with NumPy Arrays**"
      ],
      "metadata": {
        "id": "Dj1jk1DaP-W2"
      }
    },
    {
      "cell_type": "markdown",
      "source": [
        "\n",
        "\n",
        "> **array with array**\n",
        "\n"
      ],
      "metadata": {
        "id": "F1l_ht4dR5_9"
      }
    },
    {
      "cell_type": "code",
      "source": [
        "arr = np.array([[1., 2., 3.], [4., 5., 6.]])\n",
        "arr"
      ],
      "metadata": {
        "id": "G-Z_6d4kQv8K"
      },
      "execution_count": null,
      "outputs": []
    },
    {
      "cell_type": "code",
      "source": [
        "arr - arr"
      ],
      "metadata": {
        "id": "Tx0mL51ORMxH"
      },
      "execution_count": null,
      "outputs": []
    },
    {
      "cell_type": "code",
      "source": [
        "arr*arr"
      ],
      "metadata": {
        "id": "FdSQHAYmRQzF"
      },
      "execution_count": null,
      "outputs": []
    },
    {
      "cell_type": "markdown",
      "source": [
        "\n",
        "\n",
        "> **array with scalar**\n",
        "\n"
      ],
      "metadata": {
        "id": "mRIr4JMvSBHz"
      }
    },
    {
      "cell_type": "code",
      "source": [
        "arr + 10"
      ],
      "metadata": {
        "id": "vc7I-aheR1KW"
      },
      "execution_count": null,
      "outputs": []
    },
    {
      "cell_type": "code",
      "source": [
        "arr/4"
      ],
      "metadata": {
        "id": "3PYjF-CNRXmW"
      },
      "execution_count": null,
      "outputs": []
    },
    {
      "cell_type": "code",
      "source": [
        "# power\n",
        "print('original arr = '+str(arr))\n",
        "print('\\narr powered by 2 = '+str(arr ** 2))"
      ],
      "metadata": {
        "id": "PStBY2s1RblZ"
      },
      "execution_count": null,
      "outputs": []
    },
    {
      "cell_type": "markdown",
      "source": [
        "\n",
        "\n",
        "---\n",
        "\n"
      ],
      "metadata": {
        "id": "b9Lyn7v-SMZP"
      }
    },
    {
      "cell_type": "markdown",
      "source": [
        "## **Basic NumPy Indexing**"
      ],
      "metadata": {
        "id": "okinhDg0SM6V"
      }
    },
    {
      "cell_type": "code",
      "source": [
        "arr = np.arange(10)*10\n",
        "arr"
      ],
      "metadata": {
        "id": "fAmTK-r4SSzb"
      },
      "execution_count": null,
      "outputs": []
    },
    {
      "cell_type": "code",
      "source": [
        "# index begins from 0\n",
        "arr[0]"
      ],
      "metadata": {
        "id": "5fTB714CSeIT"
      },
      "execution_count": null,
      "outputs": []
    },
    {
      "cell_type": "code",
      "source": [
        "arr[5]"
      ],
      "metadata": {
        "id": "mRYuloZQSmbe"
      },
      "execution_count": null,
      "outputs": []
    },
    {
      "cell_type": "code",
      "source": [
        "# last index\n",
        "arr[-1]"
      ],
      "metadata": {
        "id": "iKq9KHP4S6vz"
      },
      "execution_count": null,
      "outputs": []
    },
    {
      "cell_type": "code",
      "source": [
        "arr[-2]"
      ],
      "metadata": {
        "id": "FTJ-gSw8S8yk"
      },
      "execution_count": null,
      "outputs": []
    },
    {
      "cell_type": "code",
      "source": [
        "# get array from index 0 to index 5\n",
        "arr[0:5]"
      ],
      "metadata": {
        "id": "V6UPt31JSlIl"
      },
      "execution_count": null,
      "outputs": []
    },
    {
      "cell_type": "code",
      "source": [
        "# assigning values\n",
        "arr[0:5] = -1\n",
        "arr"
      ],
      "metadata": {
        "id": "YU70vaVoSvko"
      },
      "execution_count": null,
      "outputs": []
    },
    {
      "cell_type": "code",
      "source": [
        "# all element\n",
        "arr[:]"
      ],
      "metadata": {
        "id": "fCBs_ZfSTGuE"
      },
      "execution_count": null,
      "outputs": []
    },
    {
      "cell_type": "code",
      "source": [
        "arr[:] = 50\n",
        "arr"
      ],
      "metadata": {
        "id": "Uo9gZ5XzTOfc"
      },
      "execution_count": null,
      "outputs": []
    },
    {
      "cell_type": "markdown",
      "source": [
        "\n",
        "\n",
        "> 2 Dimentionals Array Indexing\n",
        "\n",
        "\n",
        "\n"
      ],
      "metadata": {
        "id": "qxX1rGtfTZUm"
      }
    },
    {
      "cell_type": "code",
      "source": [
        "arr2d = np.array([[1, 2, 3], [4, 5, 6], [7, 8, 9]])\n",
        "print(arr2d)\n",
        "print(arr2d.shape)"
      ],
      "metadata": {
        "id": "cwIRJEmKTd4G"
      },
      "execution_count": null,
      "outputs": []
    },
    {
      "cell_type": "code",
      "source": [
        "# whole row\n",
        "arr2d[0]"
      ],
      "metadata": {
        "id": "I3yieOrRTm0s"
      },
      "execution_count": null,
      "outputs": []
    },
    {
      "cell_type": "code",
      "source": [
        "print(arr2d[0][2])\n",
        "print(arr2d[0,2])"
      ],
      "metadata": {
        "id": "rizwJRZTTroP"
      },
      "execution_count": null,
      "outputs": []
    },
    {
      "cell_type": "code",
      "source": [
        "# select first 2 rows\n",
        "arr2d[:2]"
      ],
      "metadata": {
        "id": "xP2sJsuEUyZ0"
      },
      "execution_count": null,
      "outputs": []
    },
    {
      "cell_type": "code",
      "source": [
        "# whole column\n",
        "arr2d[:, :1]"
      ],
      "metadata": {
        "id": "6D-7uAy_U7Qr"
      },
      "execution_count": null,
      "outputs": []
    },
    {
      "cell_type": "markdown",
      "source": [
        "\n",
        "\n",
        "---\n",
        "\n"
      ],
      "metadata": {
        "id": "yPNAvaoiWGgf"
      }
    },
    {
      "cell_type": "markdown",
      "source": [
        "## **NumPy Conditional Indexing**"
      ],
      "metadata": {
        "id": "ftHs-9KVuN2G"
      }
    },
    {
      "cell_type": "code",
      "source": [
        "arr = np.arange(10)*10\n",
        "print('original values = '+str(arr))"
      ],
      "metadata": {
        "id": "vpelIpt7uilc"
      },
      "execution_count": null,
      "outputs": []
    },
    {
      "cell_type": "code",
      "source": [
        "# return indice where value<50\n",
        "np.where(arr<50)"
      ],
      "metadata": {
        "id": "U-1Fu0qNurXk"
      },
      "execution_count": null,
      "outputs": []
    },
    {
      "cell_type": "code",
      "source": [
        "# np.where(condition, x, y)\n",
        "## for all element in Array, if condition=True -> yield x otherwise -> yield y\n",
        "\n",
        "arr = np.arange(10)*10\n",
        "print('original values = '+str(arr))\n",
        "\n",
        "np.where(arr<=20, -1, arr)"
      ],
      "metadata": {
        "id": "-Oaa6CJLv9xF"
      },
      "execution_count": null,
      "outputs": []
    },
    {
      "cell_type": "code",
      "source": [
        "np.where(arr<=20, arr+1000, arr)"
      ],
      "metadata": {
        "id": "EHxqkDSnw0Zp"
      },
      "execution_count": null,
      "outputs": []
    },
    {
      "cell_type": "code",
      "source": [
        "##### USEFUL #######\n",
        "# get Array with condition=true\n",
        "newArray = arr[np.where(arr<50)]\n",
        "newArray"
      ],
      "metadata": {
        "id": "AEpj1td0vXOJ"
      },
      "execution_count": null,
      "outputs": []
    },
    {
      "cell_type": "markdown",
      "source": [
        "## **NumPy Functions**"
      ],
      "metadata": {
        "id": "kHwgdij6WH4B"
      }
    },
    {
      "cell_type": "markdown",
      "source": [
        "\n",
        "\n",
        "*   **Mathematical Functions**\n",
        "\n"
      ],
      "metadata": {
        "id": "p34RSygQWUT2"
      }
    },
    {
      "cell_type": "code",
      "source": [
        "arr = np.arange(10)\n",
        "print(arr)"
      ],
      "metadata": {
        "id": "pkx9_HqwWXdn"
      },
      "execution_count": null,
      "outputs": []
    },
    {
      "cell_type": "code",
      "source": [
        "# square root\n",
        "np.sqrt(arr)"
      ],
      "metadata": {
        "id": "7czmgwEpWiL-"
      },
      "execution_count": null,
      "outputs": []
    },
    {
      "cell_type": "code",
      "source": [
        "# absolute\n",
        "arr = np.arange(10)*-1\n",
        "print('original values = '+str(arr))\n",
        "\n",
        "arr = np.abs(arr)\n",
        "print('absolute values = '+str(arr))"
      ],
      "metadata": {
        "id": "wJwNBo5OWw1R"
      },
      "execution_count": null,
      "outputs": []
    },
    {
      "cell_type": "code",
      "source": [
        "# summation\n",
        "arr = np.arange(10)\n",
        "print('original values = '+str(arr))\n",
        "arr = np.sum(arr)\n",
        "print('summation values = '+str(arr))"
      ],
      "metadata": {
        "id": "9TbA-YE7YECA"
      },
      "execution_count": null,
      "outputs": []
    },
    {
      "cell_type": "code",
      "source": [
        "# Sorting\n",
        "arr = np.random.randn(10)\n",
        "print('original values = '+str(arr))\n",
        "\n",
        "np.sort(arr)"
      ],
      "metadata": {
        "id": "JefjfEOj3knV"
      },
      "execution_count": null,
      "outputs": []
    },
    {
      "cell_type": "code",
      "source": [
        "# Pi\n",
        "np.pi"
      ],
      "metadata": {
        "id": "DwRHNtKuIgVT"
      },
      "execution_count": null,
      "outputs": []
    },
    {
      "cell_type": "code",
      "source": [
        "# Sin --> np.sin(radian angle)\n",
        "out = np.sin(np.pi/2)\n",
        "print(\"Sin(1/2*Pi) = \"+str(out))\n",
        "\n",
        "# np.arange(start, stop, step)\n",
        "arr = np.arange(0, 2*np.pi, np.pi/2)\n",
        "print(arr)\n",
        "np.sin(arr)"
      ],
      "metadata": {
        "id": "_A6ZmikhIW1k"
      },
      "execution_count": null,
      "outputs": []
    },
    {
      "cell_type": "markdown",
      "source": [
        "\n",
        "\n",
        "*   **Statistical Functions**\n",
        "\n"
      ],
      "metadata": {
        "id": "4ngqkWr_XEeI"
      }
    },
    {
      "cell_type": "code",
      "source": [
        "arr = np.arange(10)\n",
        "print('original values = {0}'.format(arr))"
      ],
      "metadata": {
        "id": "9sTcA8i4XHS4"
      },
      "execution_count": null,
      "outputs": []
    },
    {
      "cell_type": "code",
      "source": [
        "# Max\n",
        "print('maximum values = {0}'.format(np.max(arr)))"
      ],
      "metadata": {
        "id": "ubotHLKNXWC_"
      },
      "execution_count": null,
      "outputs": []
    },
    {
      "cell_type": "code",
      "source": [
        "# Max\n",
        "print('minimum values = {0}'.format(np.min(arr)))"
      ],
      "metadata": {
        "id": "Cvfeu8hTXb5c"
      },
      "execution_count": null,
      "outputs": []
    },
    {
      "cell_type": "code",
      "source": [
        "# Average\n",
        "print('mean values = {0}'.format(np.mean(arr)))"
      ],
      "metadata": {
        "id": "SQq2BJt3XfIM"
      },
      "execution_count": null,
      "outputs": []
    },
    {
      "cell_type": "code",
      "source": [
        "# Standard deviation\n",
        "print('Std = {0}'.format(np.std(arr)))\n",
        "# Variance\n",
        "print('Variance = {0}'.format(np.var(arr)))"
      ],
      "metadata": {
        "id": "xwJxu_rSXncT"
      },
      "execution_count": null,
      "outputs": []
    },
    {
      "cell_type": "markdown",
      "source": [
        "\n",
        "\n",
        "---\n",
        "## **NumPy Save and Load Data Files**\n"
      ],
      "metadata": {
        "id": "S99Y3gKP3JII"
      }
    },
    {
      "cell_type": "code",
      "source": [
        "# Save to numpy file\n",
        "arr = np.arange(10) * 2\n",
        "np.save('some_array', arr)"
      ],
      "metadata": {
        "id": "ynBF6q9w3TR-"
      },
      "execution_count": null,
      "outputs": []
    },
    {
      "cell_type": "code",
      "source": [
        "# Load numpy file\n",
        "new_array = np.load('some_array.npy')\n",
        "new_array"
      ],
      "metadata": {
        "id": "Fdbey0Hl4Ggi"
      },
      "execution_count": null,
      "outputs": []
    },
    {
      "cell_type": "code",
      "source": [
        "# Load data from file\n",
        "# Make sure \n",
        "Dataset = np.loadtxt(fname='sample_data/california_housing_train.csv', delimiter=',', skiprows=1)\n",
        "Dataset"
      ],
      "metadata": {
        "id": "kmqH5xSF4QP2"
      },
      "execution_count": null,
      "outputs": []
    },
    {
      "cell_type": "markdown",
      "source": [
        "\n",
        "\n",
        "---\n",
        "\n",
        "\n",
        "## **NumPy Advanced Functions**\n",
        "\n",
        "\n",
        "*   Linear Regression https://numpy.org/doc/stable/reference/generated/numpy.polyfit.html\n"
      ],
      "metadata": {
        "id": "rkMeudtdx-t0"
      }
    },
    {
      "cell_type": "code",
      "source": [
        "arrayX = np.array([1,2,3,4,5,6,7,8,9,10])\n",
        "arrayY = np.array([25, 30, 35, 40, 45, 50, 55, 60, 65, 70])"
      ],
      "metadata": {
        "id": "CfKntMDnx-aI"
      },
      "execution_count": null,
      "outputs": []
    },
    {
      "cell_type": "code",
      "source": [
        "# np.polyfit for Linear Regression\n",
        "## Parameters: np.polyfit(x, y, deg) | x, y = x-axis and y-axis | deg = degree, 1=linear regression\n",
        "## Returns: m = Slope, b = Y-interception (equ. Y = mX+b)\n",
        "\n",
        "m, b = np.polyfit(arrayX, arrayY, 1)\n",
        "print('slope = '+str(m))\n",
        "print('interception = '+str(b))"
      ],
      "metadata": {
        "id": "qO8Ej-M4zMbC"
      },
      "execution_count": null,
      "outputs": []
    },
    {
      "cell_type": "code",
      "source": [
        "# from linear equation: Y = mX + b\n",
        "calcY = m*arrayX + b\n",
        "\n",
        "print('actual Y = '+str(arrayY))\n",
        "print('calculated Y = '+str(calcY))"
      ],
      "metadata": {
        "id": "CrcR_M7a0_qT"
      },
      "execution_count": null,
      "outputs": []
    },
    {
      "cell_type": "markdown",
      "source": [
        ">**Advanced Fundtion cont.**\n",
        ">*   Correlation https://numpy.org/doc/stable/reference/generated/numpy.corrcoef.html"
      ],
      "metadata": {
        "id": "SwzC-SrJ1HoA"
      }
    },
    {
      "cell_type": "code",
      "source": [
        "# generate data\n",
        "x = np.arange(10)\n",
        "y = np.arange(10)*-1\n",
        "print(x)\n",
        "print(y)"
      ],
      "metadata": {
        "id": "KPAcfT2k1IgT"
      },
      "execution_count": null,
      "outputs": []
    },
    {
      "cell_type": "code",
      "source": [
        "# np.corrcoef return Pearson correlation coefficient, \n",
        "## 1.0 or -1.0 = perfect correlation\n",
        "## 0 = no correlation\n",
        "\n",
        "np.corrcoef(x,y)\n",
        "# return: \n",
        "# [0,0] = correlation between x and x -> always 1\n",
        "# [0,1] = correlation between x and y \n",
        "# [1,0] = correlation between y and x \n",
        "# [1,1] = correlation between y and y -> always 1"
      ],
      "metadata": {
        "id": "_Cvh5Iiu127-"
      },
      "execution_count": null,
      "outputs": []
    },
    {
      "cell_type": "code",
      "source": [
        "print('Pearson Correlation Coef. between x and y = '\n",
        "      +str(np.corrcoef(x,y)[0,1]))"
      ],
      "metadata": {
        "id": "-BF3OrKl2Skz"
      },
      "execution_count": null,
      "outputs": []
    },
    {
      "cell_type": "code",
      "source": [
        "# Another CorrCoef Example\n",
        "x = np.random.rand(10)\n",
        "y = np.random.rand(10)\n",
        "print(x)\n",
        "print(y)\n",
        "\n",
        "np.corrcoef(x,y)\n",
        "# return: \n",
        "# [0,0] = correlation between x and x -> always 1\n",
        "# [0,1] = correlation between x and y \n",
        "# [1,0] = correlation between y and x \n",
        "# [1,1] = correlation between y and y -> always 1"
      ],
      "metadata": {
        "id": "hT8DAb822ujO"
      },
      "execution_count": null,
      "outputs": []
    }
  ]
}