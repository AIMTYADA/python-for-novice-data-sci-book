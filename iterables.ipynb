{
 "cells": [
  {
   "cell_type": "markdown",
   "metadata": {
    "collapsed": true,
    "pycharm": {
     "name": "#%% md\n"
    }
   },
   "source": [
    "# Iterables"
   ]
  },
  {
   "cell_type": "markdown",
   "source": [
    "ในการเขียนโปรแกรมบ่อยครั้งเรามักต้องการเข้าถึงข้อมูลในไฟล์ ฐานข้อมูล หรือในตัวแปรที่มีข้อมูลมากจำนวนมาก แต่ว่าโดยทั่วไปเรามักจะต้องการประมวลผลเพียงครั้งละรายการเท่านั้น ดังนั้นเพื่อให้การเขียนโปรแกรมมีประสิทธิภาพมากขึ้นภาษา Python จึงได้กำหนดคุณลักษณะของชนิดข้อมูลหรือฟังก์ชั่นที่เราสามารถอ่านค่าได้ทีละรายการว่า iterables\n",
    "\n",
    "**Iterables** หมายถึง object (เช่น ชนิดข้อมูล ฟังก์ชั่น) ที่เราสามารถเรียกดูข้อมูลทีละรายการได้ (iterate over) ตัวอย่างของ iterables เช่น ข้อมูลชนิด string, list, tuple, set และ dictionary หรือการอ่านไฟล์จากฟังก์ชั่น open() ดังตัวอย่าง"
   ],
   "metadata": {
    "collapsed": false
   }
  },
  {
   "cell_type": "code",
   "execution_count": 6,
   "outputs": [
    {
     "name": "stdout",
     "output_type": "stream",
     "text": [
      "﻿Order,Order No.,วันที่ส่ง ATK,SAR CoV Ag,Comment\n",
      "\n",
      "17/3/2565,6503062915,17/3/2022,Negative,\n",
      "\n",
      "7/3/2565,6503061074,7/3/2022,Negative,\n",
      "\n",
      "7/3/2565,6503061077,7/3/2022,Negative,\n",
      "\n",
      "7/3/2565,6503061076,7/3/2022,Negative,\n",
      "\n"
     ]
    }
   ],
   "source": [
    "# example 1\n",
    "\n",
    "n = 0\n",
    "for line in open('datasets/atk.csv'):\n",
    "    print(line)\n",
    "    n += 1\n",
    "    # if line number is equal to 5; stop.\n",
    "    if n == 5:\n",
    "        break"
   ],
   "metadata": {
    "collapsed": false,
    "pycharm": {
     "name": "#%%\n"
    }
   }
  },
  {
   "cell_type": "markdown",
   "source": [
    "จากตัวอย่างข้างบน คำสั่ง **for** เป็นคำสั่งที่ใช้ในการอ่านข้อมูลทีละบรรทัดจากไฟล์ชื่อ atk.csv ซึ่งเป็นไฟล์ที่เก็บข้อมูลในรูปแบบของ comma separated values โดยในแต่ละบรรทัดจะเป็นข้อมูลหนึ่งรายการ ในไฟล์นี้มีจำนวนข้อมูลมากกว่า 1400 รายการ ดังนั้นการที่เราสามารถอ่านข้อมูลจากไฟล์ได้ทีละรายการเราจะสามารถจัดการกับข้อมูลขนาดเล็กได้อย่างมีประสิทธิภาพมากกว่าการอ่านข้อมูลมาเก็บไว้ในหน่วยความจำทั้งหมด 1400 รายการ"
   ],
   "metadata": {
    "collapsed": false,
    "pycharm": {
     "name": "#%% md\n"
    }
   }
  },
  {
   "cell_type": "code",
   "execution_count": 5,
   "outputs": [
    {
     "name": "stdout",
     "output_type": "stream",
     "text": [
      "a\n",
      "b\n",
      "c\n"
     ]
    }
   ],
   "source": [
    "# example 2\n",
    "\n",
    "d = {'a': 5, 'b': 6, 'c': 8}\n",
    "for key in d:\n",
    "    print(key)"
   ],
   "metadata": {
    "collapsed": false,
    "pycharm": {
     "name": "#%%\n"
    }
   }
  },
  {
   "cell_type": "markdown",
   "source": [
    "**ตัวอย่างที่ 2** แสดงการ iterate ชนิดข้อมูลแบบ dictionary ที่เป็นชนิดของข้อมูลแบบ iterables ที่ส่งค่าคีย์ของข้อมูลทุกครั้งที่มีการเรียกข้อมูลผ่านคำสั่ง **for**"
   ],
   "metadata": {
    "collapsed": false,
    "pycharm": {
     "name": "#%% md\n"
    }
   }
  },
  {
   "cell_type": "markdown",
   "source": [
    "นอกจากนั้น dictionary ยังมีฟังก์ชั่นหรือเมธอดที่ทำหน้าที่เป็น iterables เช่น keys, values, items ดังตัวอย่างที่ 3 และ 4"
   ],
   "metadata": {
    "collapsed": false
   }
  },
  {
   "cell_type": "code",
   "execution_count": 7,
   "outputs": [
    {
     "name": "stdout",
     "output_type": "stream",
     "text": [
      "a maps to 5\n",
      "b maps to 6\n",
      "c maps to 8\n"
     ]
    }
   ],
   "source": [
    "# example 3\n",
    "\n",
    "for key, value in d.items():\n",
    "    print(f'{key} maps to {value}')"
   ],
   "metadata": {
    "collapsed": false,
    "pycharm": {
     "name": "#%%\n"
    }
   }
  },
  {
   "cell_type": "code",
   "execution_count": 8,
   "outputs": [
    {
     "name": "stdout",
     "output_type": "stream",
     "text": [
      "5\n",
      "6\n",
      "8\n"
     ]
    }
   ],
   "source": [
    "# example 4\n",
    "\n",
    "for values in d.values():\n",
    "    print(values)"
   ],
   "metadata": {
    "collapsed": false,
    "pycharm": {
     "name": "#%%\n"
    }
   }
  },
  {
   "cell_type": "markdown",
   "source": [
    "จงเปรียบเทียบ **ตัวอย่างที่ 5** แสดงการอ่านค่าจากชนิดข้อมูลแบบ list โดยการใช้ดัชนีหรือ index กับตัวอย่างที่ 6 ที่ใช้การเข้าถึงข้อมูลแบบ iterable"
   ],
   "metadata": {
    "collapsed": false,
    "pycharm": {
     "name": "#%% md\n"
    }
   }
  },
  {
   "cell_type": "code",
   "execution_count": 16,
   "outputs": [
    {
     "name": "stdout",
     "output_type": "stream",
     "text": [
      "1\n",
      "2\n",
      "3\n",
      "4\n",
      "5\n"
     ]
    }
   ],
   "source": [
    "# example 5\n",
    "\n",
    "a = [1,2,3,4,5]\n",
    "for i in range(len(a)):\n",
    "    print(a[i])"
   ],
   "metadata": {
    "collapsed": false,
    "pycharm": {
     "name": "#%%\n"
    }
   }
  },
  {
   "cell_type": "code",
   "execution_count": 17,
   "outputs": [
    {
     "name": "stdout",
     "output_type": "stream",
     "text": [
      "1\n",
      "2\n",
      "3\n",
      "4\n",
      "5\n"
     ]
    }
   ],
   "source": [
    "# example 6\n",
    "\n",
    "a = [1,2,3,4,5]\n",
    "for value in a:\n",
    "    print(value)"
   ],
   "metadata": {
    "collapsed": false,
    "pycharm": {
     "name": "#%%\n"
    }
   }
  },
  {
   "cell_type": "markdown",
   "source": [
    "ตัวอย่างที่ 5 ใช้ฟังก์ชั่น len เพื่อหาจำนวนรายการใน list จากนั้นใช้คำสั่ง range เพื่อสร้าง list ของ index และใช้คำสั่ง for เพื่ออ่านค่าจาก list ของ index ทีละค่าและบันทึกในตัวแปร value จะเห็นได้ว่าขั้นตอนมีความซับซ้อนมากกว่าตัวอย่างที่ 6 มาก"
   ],
   "metadata": {
    "collapsed": false,
    "pycharm": {
     "name": "#%% md\n"
    }
   }
  },
  {
   "cell_type": "markdown",
   "source": [
    "ทั้งนี้ หากเราต้องการแสดง index และรายการใน iterables พร้อมกัน เราสามารถใช้ฟังก์ชั่น enumerate ได้ ดังตัวอย่างที่ 7"
   ],
   "metadata": {
    "collapsed": false,
    "pycharm": {
     "name": "#%% md\n"
    }
   }
  },
  {
   "cell_type": "code",
   "execution_count": 19,
   "outputs": [
    {
     "name": "stdout",
     "output_type": "stream",
     "text": [
      "0 1\n",
      "1 2\n",
      "2 3\n",
      "3 4\n",
      "4 5\n"
     ]
    }
   ],
   "source": [
    "# example 7\n",
    "a = [1,2,3,4,5]\n",
    "for i, value in enumerate(a):\n",
    "    print(i, value)"
   ],
   "metadata": {
    "collapsed": false,
    "pycharm": {
     "name": "#%%\n"
    }
   }
  },
  {
   "cell_type": "markdown",
   "source": [
    "ตัวอย่างที่ 7 แสดงการใช้ฟังก์ชั่น **enumerate** ที่สร้าง list ของ (index, item) ใน list ตามลำดับ"
   ],
   "metadata": {
    "collapsed": false,
    "pycharm": {
     "name": "#%% md\n"
    }
   }
  },
  {
   "cell_type": "markdown",
   "source": [
    "นอกจากชนิดข้อมูล และฟังก์ชั่นทั่วไปแล้ว ใน library ชื่อว่า itertools ยังมีฟังก์ชั่นที่สร้าง iterables และมีประโยชน์อย่างมากในการนำมาประยุกต์ใช้เช่น"
   ],
   "metadata": {
    "collapsed": false,
    "pycharm": {
     "name": "#%% md\n"
    }
   }
  },
  {
   "cell_type": "code",
   "execution_count": 40,
   "outputs": [],
   "source": [
    "import itertools"
   ],
   "metadata": {
    "collapsed": false,
    "pycharm": {
     "name": "#%%\n"
    }
   }
  },
  {
   "cell_type": "code",
   "execution_count": 23,
   "outputs": [
    {
     "name": "stdout",
     "output_type": "stream",
     "text": [
      "5\n",
      "6\n",
      "7\n",
      "8\n",
      "9\n",
      "10\n",
      "11\n",
      "12\n",
      "13\n",
      "14\n",
      "15\n",
      "16\n",
      "17\n",
      "18\n",
      "19\n",
      "20\n"
     ]
    }
   ],
   "source": [
    "for cnt in itertools.count(5):  # this code will run forever\n",
    "    print(cnt)\n",
    "    if cnt == 20:\n",
    "        break"
   ],
   "metadata": {
    "collapsed": false,
    "pycharm": {
     "name": "#%%\n"
    }
   }
  },
  {
   "cell_type": "code",
   "execution_count": 26,
   "outputs": [
    {
     "name": "stdout",
     "output_type": "stream",
     "text": [
      "ฉันทำงานกะเช้า\n",
      "ฉันทำงานกะบ่าย\n",
      "ฉันทำงานกะดึก\n",
      "ฉันทำงานกะเช้า\n",
      "ฉันทำงานกะบ่าย\n",
      "ฉันทำงานกะดึก\n",
      "ฉันทำงานกะเช้า\n",
      "ฉันทำงานกะบ่าย\n",
      "ฉันทำงานกะดึก\n",
      "ฉันทำงานกะเช้า\n",
      "ฉันทำงานกะบ่าย\n",
      "ฉันทำงานกะดึก\n",
      "ฉันทำงานกะเช้า\n",
      "ฉันทำงานกะบ่าย\n",
      "ฉันทำงานกะดึก\n",
      "ฉันทำงานกะเช้า\n",
      "ฉันทำงานกะบ่าย\n",
      "ฉันทำงานกะดึก\n",
      "ฉันทำงานกะเช้า\n",
      "ฉันทำงานกะบ่าย\n"
     ]
    }
   ],
   "source": [
    "b = ['เช้า', 'บ่าย', 'ดึก']\n",
    "n = 0\n",
    "for shift in itertools.cycle(b): # this code also runs forever cycling through the b list\n",
    "    print(f'ฉันทำงานกะ{shift}')\n",
    "    n += 1\n",
    "    if n == 20:\n",
    "        break"
   ],
   "metadata": {
    "collapsed": false,
    "pycharm": {
     "name": "#%%\n"
    }
   }
  },
  {
   "cell_type": "code",
   "execution_count": 44,
   "outputs": [
    {
     "data": {
      "text/plain": "[('A', 'B'),\n ('A', 'C'),\n ('A', 'D'),\n ('A', 'E'),\n ('A', 'F'),\n ('B', 'A'),\n ('B', 'C'),\n ('B', 'D'),\n ('B', 'E'),\n ('B', 'F'),\n ('C', 'A'),\n ('C', 'B'),\n ('C', 'D'),\n ('C', 'E'),\n ('C', 'F'),\n ('D', 'A'),\n ('D', 'B'),\n ('D', 'C'),\n ('D', 'E'),\n ('D', 'F'),\n ('E', 'A'),\n ('E', 'B'),\n ('E', 'C'),\n ('E', 'D'),\n ('E', 'F'),\n ('F', 'A'),\n ('F', 'B'),\n ('F', 'C'),\n ('F', 'D'),\n ('F', 'E')]"
     },
     "execution_count": 44,
     "metadata": {},
     "output_type": "execute_result"
    }
   ],
   "source": [
    "c = 'ABCDEF'\n",
    "[p for p in itertools.permutations(c,2)]"
   ],
   "metadata": {
    "collapsed": false,
    "pycharm": {
     "name": "#%%\n"
    }
   }
  },
  {
   "cell_type": "code",
   "execution_count": 49,
   "outputs": [
    {
     "name": "stdout",
     "output_type": "stream",
     "text": [
      "A ['A']\n",
      "G ['G', 'G']\n",
      "T ['T', 'T']\n",
      "G ['G', 'G']\n",
      "C ['C', 'C']\n",
      "A ['A']\n",
      "C ['C']\n",
      "G ['G', 'G']\n",
      "T ['T']\n",
      "A ['A']\n",
      "T ['T', 'T', 'T']\n",
      "A ['A']\n",
      "C ['C', 'C']\n",
      "A ['A']\n"
     ]
    }
   ],
   "source": [
    "for k, g in itertools.groupby('AGGTTGGCCACGGTATTTACCA'):\n",
    "    print(k, list(g))"
   ],
   "metadata": {
    "collapsed": false,
    "pycharm": {
     "name": "#%%\n"
    }
   }
  },
  {
   "cell_type": "code",
   "execution_count": 51,
   "outputs": [
    {
     "name": "stdout",
     "output_type": "stream",
     "text": [
      "('A', 'D')\n",
      "('A', 'E')\n"
     ]
    }
   ],
   "source": [
    "for comb in itertools.islice(itertools.combinations('ABCDE', 2), 2, 4):\n",
    "    print(comb)"
   ],
   "metadata": {
    "collapsed": false,
    "pycharm": {
     "name": "#%%\n"
    }
   }
  },
  {
   "cell_type": "code",
   "execution_count": 52,
   "outputs": [
    {
     "data": {
      "text/plain": "['a', 'd', 'c']"
     },
     "execution_count": 52,
     "metadata": {},
     "output_type": "execute_result"
    }
   ],
   "source": [
    "dd = {'a': 4, 'd': 5, 'c': 10}\n",
    "list(dd)"
   ],
   "metadata": {
    "collapsed": false,
    "pycharm": {
     "name": "#%%\n"
    }
   }
  },
  {
   "cell_type": "markdown",
   "source": [
    "ฟังก์ชั่น list เป็นฟังก์ชั่นที่ใช้สำหรับการสร้างชนิดข้อมูลแบบ list จาก iterables ดังนั้นเราสามารถใช้ฟังก์ชั่นนี้กับ iterables ได้ทั้งหมดรวมทั้ง iterator ด้วย"
   ],
   "metadata": {
    "collapsed": false,
    "pycharm": {
     "name": "#%% md\n"
    }
   }
  },
  {
   "cell_type": "code",
   "execution_count": 55,
   "outputs": [
    {
     "data": {
      "text/plain": "{'a', 'c', 'd'}"
     },
     "execution_count": 55,
     "metadata": {},
     "output_type": "execute_result"
    }
   ],
   "source": [
    "dd = {'a': 4, 'd': 5, 'c': 10}\n",
    "set(dd)"
   ],
   "metadata": {
    "collapsed": false,
    "pycharm": {
     "name": "#%%\n"
    }
   }
  },
  {
   "cell_type": "markdown",
   "source": [
    "ฟังก์ชั่น set เป็นฟังก์ชั่นที่ใช้สำหรับการสร้างชนิดข้อมูลแบบ set จาก iterables ดังนั้นเราสามารถใช้ฟังก์ชั่นนี้กับ iterables ได้ทั้งหมดรวมทั้ง iterator ด้วยเช่นกัน"
   ],
   "metadata": {
    "collapsed": false,
    "pycharm": {
     "name": "#%% md\n"
    }
   }
  },
  {
   "cell_type": "code",
   "execution_count": 59,
   "outputs": [],
   "source": [
    "ddd = {(k for k in itertools.groupby('AAAATTGGTTAAA')): (list(g) for k, g in itertools.groupby('AAAATTGGTTAAA'))}"
   ],
   "metadata": {
    "collapsed": false,
    "pycharm": {
     "name": "#%%\n"
    }
   }
  },
  {
   "cell_type": "code",
   "execution_count": 60,
   "outputs": [
    {
     "data": {
      "text/plain": "{<generator object <genexpr> at 0x112e22200>: <generator object <genexpr> at 0x112e22350>}"
     },
     "execution_count": 60,
     "metadata": {},
     "output_type": "execute_result"
    }
   ],
   "source": [
    "ddd"
   ],
   "metadata": {
    "collapsed": false,
    "pycharm": {
     "name": "#%%\n"
    }
   }
  },
  {
   "cell_type": "code",
   "execution_count": null,
   "outputs": [],
   "source": [],
   "metadata": {
    "collapsed": false,
    "pycharm": {
     "name": "#%%\n"
    }
   }
  }
 ],
 "metadata": {
  "kernelspec": {
   "display_name": "Python 3",
   "language": "python",
   "name": "python3"
  },
  "language_info": {
   "codemirror_mode": {
    "name": "ipython",
    "version": 2
   },
   "file_extension": ".py",
   "mimetype": "text/x-python",
   "name": "python",
   "nbconvert_exporter": "python",
   "pygments_lexer": "ipython2",
   "version": "2.7.6"
  }
 },
 "nbformat": 4,
 "nbformat_minor": 0
}